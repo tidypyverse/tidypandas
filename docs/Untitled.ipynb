{
 "cells": [
  {
   "cell_type": "code",
   "execution_count": null,
   "metadata": {},
   "outputs": [],
   "source": [
    "import tidypandas"
   ]
  }
 ],
 "metadata": {
  "kernelspec": {
   "display_name": "Python3.8-tidypandasdev",
   "language": "python",
   "name": "python3.8-tidypandasdev"
  }
 },
 "nbformat": 4,
 "nbformat_minor": 4
}
